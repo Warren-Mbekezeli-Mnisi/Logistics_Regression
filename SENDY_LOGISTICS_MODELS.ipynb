{
  "nbformat": 4,
  "nbformat_minor": 0,
  "metadata": {
    "colab": {
      "name": "SENDY_LOGISTICS_MODELS.ipynb",
      "provenance": [],
      "toc_visible": true,
      "authorship_tag": "ABX9TyN/h9vXIGSxRWjn9wcLq5ue",
      "include_colab_link": true
    },
    "kernelspec": {
      "name": "python3",
      "display_name": "Python 3"
    }
  },
  "cells": [
    {
      "cell_type": "markdown",
      "metadata": {
        "id": "view-in-github",
        "colab_type": "text"
      },
      "source": [
        "<a href=\"https://colab.research.google.com/github/Warren-Mbekezeli-Mnisi/Logistics_Regression/blob/main/SENDY_LOGISTICS_MODELS.ipynb\" target=\"_parent\"><img src=\"https://colab.research.google.com/assets/colab-badge.svg\" alt=\"Open In Colab\"/></a>"
      ]
    },
    {
      "cell_type": "markdown",
      "metadata": {
        "id": "NToUAwhaLElH"
      },
      "source": [
        "# **SENDY LOGISTICS CHALLENGE**"
      ]
    },
    {
      "cell_type": "markdown",
      "metadata": {
        "id": "LhxhLXnYLkh9"
      },
      "source": [
        "## **DATA PREPROCESSING**"
      ]
    },
    {
      "cell_type": "markdown",
      "metadata": {
        "id": "eP_2YL6mL0qY"
      },
      "source": [
        "## **MODEL #1**"
      ]
    },
    {
      "cell_type": "markdown",
      "metadata": {
        "id": "Gol1F-jWMG1l"
      },
      "source": [
        "## **MODEL #2**"
      ]
    },
    {
      "cell_type": "markdown",
      "metadata": {
        "id": "ddzkluwDMMIp"
      },
      "source": [
        "## **MODEL #3**"
      ]
    }
  ]
}