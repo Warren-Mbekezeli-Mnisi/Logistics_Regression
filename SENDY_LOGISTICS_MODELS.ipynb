{
 "cells": [
  {
   "cell_type": "markdown",
   "metadata": {
    "colab_type": "text",
    "id": "view-in-github"
   },
   "source": [
    "<a href=\"https://colab.research.google.com/github/Warren-Mbekezeli-Mnisi/Logistics_Regression/blob/main/SENDY_LOGISTICS_MODELS.ipynb\" target=\"_parent\"><img src=\"https://colab.research.google.com/assets/colab-badge.svg\" alt=\"Open In Colab\"/></a>"
   ]
  },
  {
   "cell_type": "markdown",
   "metadata": {
    "id": "NToUAwhaLElH"
   },
   "source": [
    "# **SENDY LOGISTICS CHALLENGE**"
   ]
  },
  {
   "cell_type": "markdown",
   "metadata": {
    "id": "LhxhLXnYLkh9"
   },
   "source": [
    "## **DATA PREPROCESSING**"
   ]
  },
  {
   "cell_type": "markdown",
   "metadata": {},
   "source": [
    "## Import Libraries "
   ]
  },
  {
   "cell_type": "code",
   "execution_count": 1,
   "metadata": {},
   "outputs": [],
   "source": [
    "#import all the important libraries\n",
    "import numpy as np\n",
    "import matplotlib.pyplot as plt\n",
    "import pandas as pd"
   ]
  },
  {
   "cell_type": "markdown",
   "metadata": {},
   "source": [
    "## Import Dataset"
   ]
  },
  {
   "cell_type": "markdown",
   "metadata": {},
   "source": [
    "### Import the Training DataSet"
   ]
  },
  {
   "cell_type": "code",
   "execution_count": 2,
   "metadata": {},
   "outputs": [
    {
     "name": "stdout",
     "output_type": "stream",
     "text": [
      "22\n",
      "Index(['Platform Type', 'Personal or Business', 'Placement - Day of Month',\n",
      "       'Placement - Weekday (Mo = 1)', 'Placement - Time',\n",
      "       'Confirmation - Day of Month', 'Confirmation - Weekday (Mo = 1)',\n",
      "       'Confirmation - Time', 'Arrival at Pickup - Day of Month',\n",
      "       'Arrival at Pickup - Weekday (Mo = 1)', 'Arrival at Pickup - Time',\n",
      "       'Pickup - Day of Month', 'Pickup - Weekday (Mo = 1)', 'Pickup - Time',\n",
      "       'Distance (KM)', 'Temperature', 'Precipitation in millimeters',\n",
      "       'Pickup Lat', 'Pickup Long', 'Destination Lat', 'Destination Long',\n",
      "       'Rider Id'],\n",
      "      dtype='object')\n",
      "22\n",
      "Index(['Platform Type', 'Personal or Business', 'Placement - Day of Month',\n",
      "       'Placement - Weekday (Mo = 1)', 'Placement - Time',\n",
      "       'Confirmation - Day of Month', 'Confirmation - Weekday (Mo = 1)',\n",
      "       'Confirmation - Time', 'Arrival at Pickup - Day of Month',\n",
      "       'Arrival at Pickup - Weekday (Mo = 1)', 'Arrival at Pickup - Time',\n",
      "       'Pickup - Day of Month', 'Pickup - Weekday (Mo = 1)', 'Pickup - Time',\n",
      "       'Distance (KM)', 'Temperature', 'Precipitation in millimeters',\n",
      "       'Pickup Lat', 'Pickup Long', 'Destination Lat', 'Destination Long',\n",
      "       'Rider Id'],\n",
      "      dtype='object')\n"
     ]
    }
   ],
   "source": [
    "#import training dataset and observe the results\n",
    "train_set = pd.read_csv('Train.csv')\n",
    "\n",
    "y_train = train_set.iloc[:, -1].values\n",
    "\n",
    "train_set.drop(['User Id', 'Vehicle Type','Order No', 'Arrival at Destination - Weekday (Mo = 1)',\n",
    "             'Arrival at Destination - Time', 'Arrival at Destination - Day of Month', 'Time from Pickup to Arrival' ],\n",
    "             axis=1, inplace=True)\n",
    "\n",
    "test_set = pd.read_csv('Test.csv')\n",
    "sub_df = test_set.copy()\n",
    "test_set.drop(['User Id', 'Vehicle Type','Order No'  ],\n",
    "             axis=1, inplace=True)\n",
    "\n",
    "rider_info = pd.read_csv('Riders.csv')\n",
    "\n",
    "print(len(train_set.columns))\n",
    "print(train_set.columns)\n",
    "\n",
    "print(len(test_set.columns))\n",
    "print(test_set.columns)\n",
    "\n",
    "for column in train_set.columns:\n",
    "  if column not in test_set.columns:\n",
    "    print(column)"
   ]
  },
  {
   "cell_type": "markdown",
   "metadata": {},
   "source": [
    "## Preproccessing the Datasets"
   ]
  },
  {
   "cell_type": "code",
   "execution_count": 3,
   "metadata": {},
   "outputs": [],
   "source": [
    "def convert_to_24hrs(column):\n",
    "    column = pd.to_datetime(column, format='%I:%M:%S %p').dt.strftime(\"%H:%M:%S\")\n",
    "    return column"
   ]
  },
  {
   "cell_type": "code",
   "execution_count": 4,
   "metadata": {},
   "outputs": [],
   "source": [
    "train_set['Confirmation - Time'] = pd.to_timedelta(convert_to_24hrs(train_set['Confirmation - Time'] ))\n",
    "train_set['Placement - Time'] = pd.to_timedelta(convert_to_24hrs(train_set['Placement - Time'] ))\n",
    "train_set['Arrival at Pickup - Time'] =  pd.to_timedelta(convert_to_24hrs(train_set['Arrival at Pickup - Time'] ))\n",
    "train_set['Pickup - Time'] =  pd.to_timedelta(convert_to_24hrs(train_set['Pickup - Time'] ))\n",
    "\n",
    "test_set['Confirmation - Time'] = pd.to_timedelta(convert_to_24hrs(test_set['Confirmation - Time'] ))\n",
    "test_set['Placement - Time'] = pd.to_timedelta(convert_to_24hrs(test_set['Placement - Time'] ))\n",
    "test_set['Arrival at Pickup - Time'] =  pd.to_timedelta(convert_to_24hrs(test_set['Arrival at Pickup - Time'] ))\n",
    "test_set['Pickup - Time'] =  pd.to_timedelta(convert_to_24hrs(test_set['Pickup - Time'] ))"
   ]
  },
  {
   "cell_type": "code",
   "execution_count": 5,
   "metadata": {},
   "outputs": [],
   "source": [
    "train_set['Time from Confirmation to placement'] = train_set['Confirmation - Time']- train_set['Placement - Time']\n",
    "train_set['Waiting Time'] = train_set['Pickup - Time']- train_set['Arrival at Pickup - Time']\n",
    "\n",
    "test_set['Time from Confirmation to placement'] = test_set['Confirmation - Time']- test_set['Placement - Time']\n",
    "test_set['Waiting Time'] = test_set['Pickup - Time']- test_set['Arrival at Pickup - Time']"
   ]
  },
  {
   "cell_type": "code",
   "execution_count": 6,
   "metadata": {},
   "outputs": [],
   "source": [
    "train_set['Time from Confirmation to placement'] = train_set['Time from Confirmation to placement'] / np.timedelta64(1, 's')\n",
    "train_set['Waiting Time'] = train_set['Waiting Time'] / np.timedelta64(1, 's')\n",
    "\n",
    "test_set['Time from Confirmation to placement'] = test_set['Time from Confirmation to placement'] / np.timedelta64(1, 's')\n",
    "test_set['Waiting Time'] = test_set['Waiting Time'] / np.timedelta64(1, 's')"
   ]
  },
  {
   "cell_type": "code",
   "execution_count": 7,
   "metadata": {},
   "outputs": [],
   "source": [
    "train_set['Temperature'] = train_set['Temperature'].fillna(train_set['Temperature'].mean())\n",
    "\n",
    "test_set['Temperature'] = test_set['Temperature'].fillna(test_set['Temperature'].mean())"
   ]
  },
  {
   "cell_type": "code",
   "execution_count": 8,
   "metadata": {},
   "outputs": [],
   "source": [
    "train_set['Precipitation in millimeters'] = train_set['Precipitation in millimeters'].fillna(0)\n",
    "\n",
    "test_set['Precipitation in millimeters'] = test_set['Precipitation in millimeters'].fillna(0)"
   ]
  },
  {
   "cell_type": "code",
   "execution_count": 9,
   "metadata": {},
   "outputs": [],
   "source": [
    "train_set = pd.merge(train_set, rider_info, on='Rider Id', how= 'left')\n",
    "\n",
    "test_set = pd.merge(test_set, rider_info, on='Rider Id', how= 'left')"
   ]
  },
  {
   "cell_type": "code",
   "execution_count": 10,
   "metadata": {},
   "outputs": [],
   "source": [
    "train_set.drop(['Rider Id','Confirmation - Time','Placement - Time' ,'Pickup - Time','Arrival at Pickup - Time'],\n",
    "             axis=1, inplace=True)\n",
    "\n",
    "test_set.drop(['Rider Id','Confirmation - Time','Placement - Time' ,'Pickup - Time','Arrival at Pickup - Time'],\n",
    "             axis=1, inplace=True)"
   ]
  },
  {
   "cell_type": "code",
   "execution_count": 11,
   "metadata": {},
   "outputs": [
    {
     "data": {
      "text/html": [
       "<div>\n",
       "<style scoped>\n",
       "    .dataframe tbody tr th:only-of-type {\n",
       "        vertical-align: middle;\n",
       "    }\n",
       "\n",
       "    .dataframe tbody tr th {\n",
       "        vertical-align: top;\n",
       "    }\n",
       "\n",
       "    .dataframe thead th {\n",
       "        text-align: right;\n",
       "    }\n",
       "</style>\n",
       "<table border=\"1\" class=\"dataframe\">\n",
       "  <thead>\n",
       "    <tr style=\"text-align: right;\">\n",
       "      <th></th>\n",
       "      <th>Platform Type</th>\n",
       "      <th>Personal or Business</th>\n",
       "      <th>Placement - Day of Month</th>\n",
       "      <th>Placement - Weekday (Mo = 1)</th>\n",
       "      <th>Confirmation - Day of Month</th>\n",
       "      <th>Confirmation - Weekday (Mo = 1)</th>\n",
       "      <th>Arrival at Pickup - Day of Month</th>\n",
       "      <th>Arrival at Pickup - Weekday (Mo = 1)</th>\n",
       "      <th>Pickup - Day of Month</th>\n",
       "      <th>Pickup - Weekday (Mo = 1)</th>\n",
       "      <th>...</th>\n",
       "      <th>Pickup Lat</th>\n",
       "      <th>Pickup Long</th>\n",
       "      <th>Destination Lat</th>\n",
       "      <th>Destination Long</th>\n",
       "      <th>Time from Confirmation to placement</th>\n",
       "      <th>Waiting Time</th>\n",
       "      <th>No_Of_Orders</th>\n",
       "      <th>Age</th>\n",
       "      <th>Average_Rating</th>\n",
       "      <th>No_of_Ratings</th>\n",
       "    </tr>\n",
       "  </thead>\n",
       "  <tbody>\n",
       "    <tr>\n",
       "      <th>0</th>\n",
       "      <td>3</td>\n",
       "      <td>Business</td>\n",
       "      <td>9</td>\n",
       "      <td>5</td>\n",
       "      <td>9</td>\n",
       "      <td>5</td>\n",
       "      <td>9</td>\n",
       "      <td>5</td>\n",
       "      <td>9</td>\n",
       "      <td>5</td>\n",
       "      <td>...</td>\n",
       "      <td>-1.317755</td>\n",
       "      <td>36.830370</td>\n",
       "      <td>-1.300406</td>\n",
       "      <td>36.829741</td>\n",
       "      <td>264.0</td>\n",
       "      <td>1363.0</td>\n",
       "      <td>1637</td>\n",
       "      <td>1309</td>\n",
       "      <td>13.8</td>\n",
       "      <td>549</td>\n",
       "    </tr>\n",
       "    <tr>\n",
       "      <th>1</th>\n",
       "      <td>3</td>\n",
       "      <td>Personal</td>\n",
       "      <td>12</td>\n",
       "      <td>5</td>\n",
       "      <td>12</td>\n",
       "      <td>5</td>\n",
       "      <td>12</td>\n",
       "      <td>5</td>\n",
       "      <td>12</td>\n",
       "      <td>5</td>\n",
       "      <td>...</td>\n",
       "      <td>-1.351453</td>\n",
       "      <td>36.899315</td>\n",
       "      <td>-1.295004</td>\n",
       "      <td>36.814358</td>\n",
       "      <td>425.0</td>\n",
       "      <td>227.0</td>\n",
       "      <td>396</td>\n",
       "      <td>339</td>\n",
       "      <td>13.6</td>\n",
       "      <td>69</td>\n",
       "    </tr>\n",
       "    <tr>\n",
       "      <th>2</th>\n",
       "      <td>3</td>\n",
       "      <td>Business</td>\n",
       "      <td>30</td>\n",
       "      <td>2</td>\n",
       "      <td>30</td>\n",
       "      <td>2</td>\n",
       "      <td>30</td>\n",
       "      <td>2</td>\n",
       "      <td>30</td>\n",
       "      <td>2</td>\n",
       "      <td>...</td>\n",
       "      <td>-1.308284</td>\n",
       "      <td>36.843419</td>\n",
       "      <td>-1.300921</td>\n",
       "      <td>36.828195</td>\n",
       "      <td>199.0</td>\n",
       "      <td>209.0</td>\n",
       "      <td>1023</td>\n",
       "      <td>242</td>\n",
       "      <td>12.5</td>\n",
       "      <td>114</td>\n",
       "    </tr>\n",
       "    <tr>\n",
       "      <th>3</th>\n",
       "      <td>3</td>\n",
       "      <td>Business</td>\n",
       "      <td>15</td>\n",
       "      <td>5</td>\n",
       "      <td>15</td>\n",
       "      <td>5</td>\n",
       "      <td>15</td>\n",
       "      <td>5</td>\n",
       "      <td>15</td>\n",
       "      <td>5</td>\n",
       "      <td>...</td>\n",
       "      <td>-1.281301</td>\n",
       "      <td>36.832396</td>\n",
       "      <td>-1.257147</td>\n",
       "      <td>36.795063</td>\n",
       "      <td>31.0</td>\n",
       "      <td>310.0</td>\n",
       "      <td>886</td>\n",
       "      <td>283</td>\n",
       "      <td>14.5</td>\n",
       "      <td>113</td>\n",
       "    </tr>\n",
       "    <tr>\n",
       "      <th>4</th>\n",
       "      <td>1</td>\n",
       "      <td>Personal</td>\n",
       "      <td>13</td>\n",
       "      <td>1</td>\n",
       "      <td>13</td>\n",
       "      <td>1</td>\n",
       "      <td>13</td>\n",
       "      <td>1</td>\n",
       "      <td>13</td>\n",
       "      <td>1</td>\n",
       "      <td>...</td>\n",
       "      <td>-1.266597</td>\n",
       "      <td>36.792118</td>\n",
       "      <td>-1.295041</td>\n",
       "      <td>36.809817</td>\n",
       "      <td>60.0</td>\n",
       "      <td>90.0</td>\n",
       "      <td>2311</td>\n",
       "      <td>872</td>\n",
       "      <td>14.1</td>\n",
       "      <td>533</td>\n",
       "    </tr>\n",
       "  </tbody>\n",
       "</table>\n",
       "<p>5 rows × 23 columns</p>\n",
       "</div>"
      ],
      "text/plain": [
       "   Platform Type Personal or Business  Placement - Day of Month  \\\n",
       "0              3             Business                         9   \n",
       "1              3             Personal                        12   \n",
       "2              3             Business                        30   \n",
       "3              3             Business                        15   \n",
       "4              1             Personal                        13   \n",
       "\n",
       "   Placement - Weekday (Mo = 1)  Confirmation - Day of Month  \\\n",
       "0                             5                            9   \n",
       "1                             5                           12   \n",
       "2                             2                           30   \n",
       "3                             5                           15   \n",
       "4                             1                           13   \n",
       "\n",
       "   Confirmation - Weekday (Mo = 1)  Arrival at Pickup - Day of Month  \\\n",
       "0                                5                                 9   \n",
       "1                                5                                12   \n",
       "2                                2                                30   \n",
       "3                                5                                15   \n",
       "4                                1                                13   \n",
       "\n",
       "   Arrival at Pickup - Weekday (Mo = 1)  Pickup - Day of Month  \\\n",
       "0                                     5                      9   \n",
       "1                                     5                     12   \n",
       "2                                     2                     30   \n",
       "3                                     5                     15   \n",
       "4                                     1                     13   \n",
       "\n",
       "   Pickup - Weekday (Mo = 1)  ...  Pickup Lat  Pickup Long  Destination Lat  \\\n",
       "0                          5  ...   -1.317755    36.830370        -1.300406   \n",
       "1                          5  ...   -1.351453    36.899315        -1.295004   \n",
       "2                          2  ...   -1.308284    36.843419        -1.300921   \n",
       "3                          5  ...   -1.281301    36.832396        -1.257147   \n",
       "4                          1  ...   -1.266597    36.792118        -1.295041   \n",
       "\n",
       "   Destination Long  Time from Confirmation to placement  Waiting Time  \\\n",
       "0         36.829741                                264.0        1363.0   \n",
       "1         36.814358                                425.0         227.0   \n",
       "2         36.828195                                199.0         209.0   \n",
       "3         36.795063                                 31.0         310.0   \n",
       "4         36.809817                                 60.0          90.0   \n",
       "\n",
       "   No_Of_Orders   Age  Average_Rating  No_of_Ratings  \n",
       "0          1637  1309            13.8            549  \n",
       "1           396   339            13.6             69  \n",
       "2          1023   242            12.5            114  \n",
       "3           886   283            14.5            113  \n",
       "4          2311   872            14.1            533  \n",
       "\n",
       "[5 rows x 23 columns]"
      ]
     },
     "execution_count": 11,
     "metadata": {},
     "output_type": "execute_result"
    }
   ],
   "source": [
    "train_set.head()"
   ]
  },
  {
   "cell_type": "code",
   "execution_count": 12,
   "metadata": {
    "scrolled": true
   },
   "outputs": [
    {
     "data": {
      "text/html": [
       "<div>\n",
       "<style scoped>\n",
       "    .dataframe tbody tr th:only-of-type {\n",
       "        vertical-align: middle;\n",
       "    }\n",
       "\n",
       "    .dataframe tbody tr th {\n",
       "        vertical-align: top;\n",
       "    }\n",
       "\n",
       "    .dataframe thead th {\n",
       "        text-align: right;\n",
       "    }\n",
       "</style>\n",
       "<table border=\"1\" class=\"dataframe\">\n",
       "  <thead>\n",
       "    <tr style=\"text-align: right;\">\n",
       "      <th></th>\n",
       "      <th>Platform Type</th>\n",
       "      <th>Personal or Business</th>\n",
       "      <th>Placement - Day of Month</th>\n",
       "      <th>Placement - Weekday (Mo = 1)</th>\n",
       "      <th>Confirmation - Day of Month</th>\n",
       "      <th>Confirmation - Weekday (Mo = 1)</th>\n",
       "      <th>Arrival at Pickup - Day of Month</th>\n",
       "      <th>Arrival at Pickup - Weekday (Mo = 1)</th>\n",
       "      <th>Pickup - Day of Month</th>\n",
       "      <th>Pickup - Weekday (Mo = 1)</th>\n",
       "      <th>...</th>\n",
       "      <th>Pickup Lat</th>\n",
       "      <th>Pickup Long</th>\n",
       "      <th>Destination Lat</th>\n",
       "      <th>Destination Long</th>\n",
       "      <th>Time from Confirmation to placement</th>\n",
       "      <th>Waiting Time</th>\n",
       "      <th>No_Of_Orders</th>\n",
       "      <th>Age</th>\n",
       "      <th>Average_Rating</th>\n",
       "      <th>No_of_Ratings</th>\n",
       "    </tr>\n",
       "  </thead>\n",
       "  <tbody>\n",
       "    <tr>\n",
       "      <th>0</th>\n",
       "      <td>3</td>\n",
       "      <td>Business</td>\n",
       "      <td>27</td>\n",
       "      <td>3</td>\n",
       "      <td>27</td>\n",
       "      <td>3</td>\n",
       "      <td>27</td>\n",
       "      <td>3</td>\n",
       "      <td>27</td>\n",
       "      <td>3</td>\n",
       "      <td>...</td>\n",
       "      <td>-1.333275</td>\n",
       "      <td>36.870815</td>\n",
       "      <td>-1.305249</td>\n",
       "      <td>36.822390</td>\n",
       "      <td>19.0</td>\n",
       "      <td>823.0</td>\n",
       "      <td>439</td>\n",
       "      <td>1511</td>\n",
       "      <td>13.3</td>\n",
       "      <td>171</td>\n",
       "    </tr>\n",
       "    <tr>\n",
       "      <th>1</th>\n",
       "      <td>3</td>\n",
       "      <td>Business</td>\n",
       "      <td>17</td>\n",
       "      <td>5</td>\n",
       "      <td>17</td>\n",
       "      <td>5</td>\n",
       "      <td>17</td>\n",
       "      <td>5</td>\n",
       "      <td>17</td>\n",
       "      <td>5</td>\n",
       "      <td>...</td>\n",
       "      <td>-1.272639</td>\n",
       "      <td>36.794723</td>\n",
       "      <td>-1.277007</td>\n",
       "      <td>36.823907</td>\n",
       "      <td>102.0</td>\n",
       "      <td>310.0</td>\n",
       "      <td>488</td>\n",
       "      <td>273</td>\n",
       "      <td>14.4</td>\n",
       "      <td>45</td>\n",
       "    </tr>\n",
       "    <tr>\n",
       "      <th>2</th>\n",
       "      <td>3</td>\n",
       "      <td>Business</td>\n",
       "      <td>27</td>\n",
       "      <td>4</td>\n",
       "      <td>27</td>\n",
       "      <td>4</td>\n",
       "      <td>27</td>\n",
       "      <td>4</td>\n",
       "      <td>27</td>\n",
       "      <td>4</td>\n",
       "      <td>...</td>\n",
       "      <td>-1.290894</td>\n",
       "      <td>36.822971</td>\n",
       "      <td>-1.276574</td>\n",
       "      <td>36.851365</td>\n",
       "      <td>1011.0</td>\n",
       "      <td>1474.0</td>\n",
       "      <td>833</td>\n",
       "      <td>460</td>\n",
       "      <td>13.1</td>\n",
       "      <td>67</td>\n",
       "    </tr>\n",
       "    <tr>\n",
       "      <th>3</th>\n",
       "      <td>3</td>\n",
       "      <td>Business</td>\n",
       "      <td>17</td>\n",
       "      <td>1</td>\n",
       "      <td>17</td>\n",
       "      <td>1</td>\n",
       "      <td>17</td>\n",
       "      <td>1</td>\n",
       "      <td>17</td>\n",
       "      <td>1</td>\n",
       "      <td>...</td>\n",
       "      <td>-1.290503</td>\n",
       "      <td>36.809646</td>\n",
       "      <td>-1.303382</td>\n",
       "      <td>36.790658</td>\n",
       "      <td>112.0</td>\n",
       "      <td>851.0</td>\n",
       "      <td>487</td>\n",
       "      <td>560</td>\n",
       "      <td>13.7</td>\n",
       "      <td>44</td>\n",
       "    </tr>\n",
       "    <tr>\n",
       "      <th>4</th>\n",
       "      <td>3</td>\n",
       "      <td>Business</td>\n",
       "      <td>11</td>\n",
       "      <td>2</td>\n",
       "      <td>11</td>\n",
       "      <td>2</td>\n",
       "      <td>11</td>\n",
       "      <td>2</td>\n",
       "      <td>11</td>\n",
       "      <td>2</td>\n",
       "      <td>...</td>\n",
       "      <td>-1.281081</td>\n",
       "      <td>36.814423</td>\n",
       "      <td>-1.266467</td>\n",
       "      <td>36.792161</td>\n",
       "      <td>257.0</td>\n",
       "      <td>525.0</td>\n",
       "      <td>4761</td>\n",
       "      <td>1120</td>\n",
       "      <td>14.1</td>\n",
       "      <td>1010</td>\n",
       "    </tr>\n",
       "  </tbody>\n",
       "</table>\n",
       "<p>5 rows × 23 columns</p>\n",
       "</div>"
      ],
      "text/plain": [
       "   Platform Type Personal or Business  Placement - Day of Month  \\\n",
       "0              3             Business                        27   \n",
       "1              3             Business                        17   \n",
       "2              3             Business                        27   \n",
       "3              3             Business                        17   \n",
       "4              3             Business                        11   \n",
       "\n",
       "   Placement - Weekday (Mo = 1)  Confirmation - Day of Month  \\\n",
       "0                             3                           27   \n",
       "1                             5                           17   \n",
       "2                             4                           27   \n",
       "3                             1                           17   \n",
       "4                             2                           11   \n",
       "\n",
       "   Confirmation - Weekday (Mo = 1)  Arrival at Pickup - Day of Month  \\\n",
       "0                                3                                27   \n",
       "1                                5                                17   \n",
       "2                                4                                27   \n",
       "3                                1                                17   \n",
       "4                                2                                11   \n",
       "\n",
       "   Arrival at Pickup - Weekday (Mo = 1)  Pickup - Day of Month  \\\n",
       "0                                     3                     27   \n",
       "1                                     5                     17   \n",
       "2                                     4                     27   \n",
       "3                                     1                     17   \n",
       "4                                     2                     11   \n",
       "\n",
       "   Pickup - Weekday (Mo = 1)  ...  Pickup Lat  Pickup Long  Destination Lat  \\\n",
       "0                          3  ...   -1.333275    36.870815        -1.305249   \n",
       "1                          5  ...   -1.272639    36.794723        -1.277007   \n",
       "2                          4  ...   -1.290894    36.822971        -1.276574   \n",
       "3                          1  ...   -1.290503    36.809646        -1.303382   \n",
       "4                          2  ...   -1.281081    36.814423        -1.266467   \n",
       "\n",
       "   Destination Long  Time from Confirmation to placement  Waiting Time  \\\n",
       "0         36.822390                                 19.0         823.0   \n",
       "1         36.823907                                102.0         310.0   \n",
       "2         36.851365                               1011.0        1474.0   \n",
       "3         36.790658                                112.0         851.0   \n",
       "4         36.792161                                257.0         525.0   \n",
       "\n",
       "   No_Of_Orders   Age  Average_Rating  No_of_Ratings  \n",
       "0           439  1511            13.3            171  \n",
       "1           488   273            14.4             45  \n",
       "2           833   460            13.1             67  \n",
       "3           487   560            13.7             44  \n",
       "4          4761  1120            14.1           1010  \n",
       "\n",
       "[5 rows x 23 columns]"
      ]
     },
     "execution_count": 12,
     "metadata": {},
     "output_type": "execute_result"
    }
   ],
   "source": [
    "test_set.head()"
   ]
  },
  {
   "cell_type": "code",
   "execution_count": 13,
   "metadata": {},
   "outputs": [
    {
     "data": {
      "text/html": [
       "<div>\n",
       "<style scoped>\n",
       "    .dataframe tbody tr th:only-of-type {\n",
       "        vertical-align: middle;\n",
       "    }\n",
       "\n",
       "    .dataframe tbody tr th {\n",
       "        vertical-align: top;\n",
       "    }\n",
       "\n",
       "    .dataframe thead th {\n",
       "        text-align: right;\n",
       "    }\n",
       "</style>\n",
       "<table border=\"1\" class=\"dataframe\">\n",
       "  <thead>\n",
       "    <tr style=\"text-align: right;\">\n",
       "      <th></th>\n",
       "      <th>Platform Type</th>\n",
       "      <th>Personal or Business</th>\n",
       "      <th>Placement - Day of Month</th>\n",
       "      <th>Placement - Weekday (Mo = 1)</th>\n",
       "      <th>Confirmation - Day of Month</th>\n",
       "      <th>Confirmation - Weekday (Mo = 1)</th>\n",
       "      <th>Arrival at Pickup - Day of Month</th>\n",
       "      <th>Arrival at Pickup - Weekday (Mo = 1)</th>\n",
       "      <th>Pickup - Day of Month</th>\n",
       "      <th>Pickup - Weekday (Mo = 1)</th>\n",
       "      <th>...</th>\n",
       "      <th>Pickup Long</th>\n",
       "      <th>Destination Lat</th>\n",
       "      <th>Destination Long</th>\n",
       "      <th>Time from Confirmation to placement</th>\n",
       "      <th>Waiting Time</th>\n",
       "      <th>No_Of_Orders</th>\n",
       "      <th>Age</th>\n",
       "      <th>Average_Rating</th>\n",
       "      <th>No_of_Ratings</th>\n",
       "      <th>Y</th>\n",
       "    </tr>\n",
       "  </thead>\n",
       "  <tbody>\n",
       "    <tr>\n",
       "      <th>0</th>\n",
       "      <td>3</td>\n",
       "      <td>Business</td>\n",
       "      <td>9</td>\n",
       "      <td>5</td>\n",
       "      <td>9</td>\n",
       "      <td>5</td>\n",
       "      <td>9</td>\n",
       "      <td>5</td>\n",
       "      <td>9</td>\n",
       "      <td>5</td>\n",
       "      <td>...</td>\n",
       "      <td>36.830370</td>\n",
       "      <td>-1.300406</td>\n",
       "      <td>36.829741</td>\n",
       "      <td>264.0</td>\n",
       "      <td>1363.0</td>\n",
       "      <td>1637</td>\n",
       "      <td>1309</td>\n",
       "      <td>13.8</td>\n",
       "      <td>549</td>\n",
       "      <td>745</td>\n",
       "    </tr>\n",
       "    <tr>\n",
       "      <th>1</th>\n",
       "      <td>3</td>\n",
       "      <td>Personal</td>\n",
       "      <td>12</td>\n",
       "      <td>5</td>\n",
       "      <td>12</td>\n",
       "      <td>5</td>\n",
       "      <td>12</td>\n",
       "      <td>5</td>\n",
       "      <td>12</td>\n",
       "      <td>5</td>\n",
       "      <td>...</td>\n",
       "      <td>36.899315</td>\n",
       "      <td>-1.295004</td>\n",
       "      <td>36.814358</td>\n",
       "      <td>425.0</td>\n",
       "      <td>227.0</td>\n",
       "      <td>396</td>\n",
       "      <td>339</td>\n",
       "      <td>13.6</td>\n",
       "      <td>69</td>\n",
       "      <td>1993</td>\n",
       "    </tr>\n",
       "    <tr>\n",
       "      <th>2</th>\n",
       "      <td>3</td>\n",
       "      <td>Business</td>\n",
       "      <td>30</td>\n",
       "      <td>2</td>\n",
       "      <td>30</td>\n",
       "      <td>2</td>\n",
       "      <td>30</td>\n",
       "      <td>2</td>\n",
       "      <td>30</td>\n",
       "      <td>2</td>\n",
       "      <td>...</td>\n",
       "      <td>36.843419</td>\n",
       "      <td>-1.300921</td>\n",
       "      <td>36.828195</td>\n",
       "      <td>199.0</td>\n",
       "      <td>209.0</td>\n",
       "      <td>1023</td>\n",
       "      <td>242</td>\n",
       "      <td>12.5</td>\n",
       "      <td>114</td>\n",
       "      <td>455</td>\n",
       "    </tr>\n",
       "    <tr>\n",
       "      <th>3</th>\n",
       "      <td>3</td>\n",
       "      <td>Business</td>\n",
       "      <td>15</td>\n",
       "      <td>5</td>\n",
       "      <td>15</td>\n",
       "      <td>5</td>\n",
       "      <td>15</td>\n",
       "      <td>5</td>\n",
       "      <td>15</td>\n",
       "      <td>5</td>\n",
       "      <td>...</td>\n",
       "      <td>36.832396</td>\n",
       "      <td>-1.257147</td>\n",
       "      <td>36.795063</td>\n",
       "      <td>31.0</td>\n",
       "      <td>310.0</td>\n",
       "      <td>886</td>\n",
       "      <td>283</td>\n",
       "      <td>14.5</td>\n",
       "      <td>113</td>\n",
       "      <td>1341</td>\n",
       "    </tr>\n",
       "    <tr>\n",
       "      <th>4</th>\n",
       "      <td>1</td>\n",
       "      <td>Personal</td>\n",
       "      <td>13</td>\n",
       "      <td>1</td>\n",
       "      <td>13</td>\n",
       "      <td>1</td>\n",
       "      <td>13</td>\n",
       "      <td>1</td>\n",
       "      <td>13</td>\n",
       "      <td>1</td>\n",
       "      <td>...</td>\n",
       "      <td>36.792118</td>\n",
       "      <td>-1.295041</td>\n",
       "      <td>36.809817</td>\n",
       "      <td>60.0</td>\n",
       "      <td>90.0</td>\n",
       "      <td>2311</td>\n",
       "      <td>872</td>\n",
       "      <td>14.1</td>\n",
       "      <td>533</td>\n",
       "      <td>1214</td>\n",
       "    </tr>\n",
       "  </tbody>\n",
       "</table>\n",
       "<p>5 rows × 24 columns</p>\n",
       "</div>"
      ],
      "text/plain": [
       "   Platform Type Personal or Business  Placement - Day of Month  \\\n",
       "0              3             Business                         9   \n",
       "1              3             Personal                        12   \n",
       "2              3             Business                        30   \n",
       "3              3             Business                        15   \n",
       "4              1             Personal                        13   \n",
       "\n",
       "   Placement - Weekday (Mo = 1)  Confirmation - Day of Month  \\\n",
       "0                             5                            9   \n",
       "1                             5                           12   \n",
       "2                             2                           30   \n",
       "3                             5                           15   \n",
       "4                             1                           13   \n",
       "\n",
       "   Confirmation - Weekday (Mo = 1)  Arrival at Pickup - Day of Month  \\\n",
       "0                                5                                 9   \n",
       "1                                5                                12   \n",
       "2                                2                                30   \n",
       "3                                5                                15   \n",
       "4                                1                                13   \n",
       "\n",
       "   Arrival at Pickup - Weekday (Mo = 1)  Pickup - Day of Month  \\\n",
       "0                                     5                      9   \n",
       "1                                     5                     12   \n",
       "2                                     2                     30   \n",
       "3                                     5                     15   \n",
       "4                                     1                     13   \n",
       "\n",
       "   Pickup - Weekday (Mo = 1)  ...  Pickup Long  Destination Lat  \\\n",
       "0                          5  ...    36.830370        -1.300406   \n",
       "1                          5  ...    36.899315        -1.295004   \n",
       "2                          2  ...    36.843419        -1.300921   \n",
       "3                          5  ...    36.832396        -1.257147   \n",
       "4                          1  ...    36.792118        -1.295041   \n",
       "\n",
       "   Destination Long  Time from Confirmation to placement  Waiting Time  \\\n",
       "0         36.829741                                264.0        1363.0   \n",
       "1         36.814358                                425.0         227.0   \n",
       "2         36.828195                                199.0         209.0   \n",
       "3         36.795063                                 31.0         310.0   \n",
       "4         36.809817                                 60.0          90.0   \n",
       "\n",
       "   No_Of_Orders   Age  Average_Rating  No_of_Ratings     Y  \n",
       "0          1637  1309            13.8            549   745  \n",
       "1           396   339            13.6             69  1993  \n",
       "2          1023   242            12.5            114   455  \n",
       "3           886   283            14.5            113  1341  \n",
       "4          2311   872            14.1            533  1214  \n",
       "\n",
       "[5 rows x 24 columns]"
      ]
     },
     "execution_count": 13,
     "metadata": {},
     "output_type": "execute_result"
    }
   ],
   "source": [
    "train_set['Y'] = y_train\n",
    "train_set.head()"
   ]
  },
  {
   "cell_type": "code",
   "execution_count": 14,
   "metadata": {},
   "outputs": [],
   "source": [
    "train_set.drop([ 'Placement - Day of Month', 'Placement - Weekday (Mo = 1)', 'Arrival at Pickup - Day of Month', 'Arrival at Pickup - Weekday (Mo = 1)', 'Pickup - Day of Month', 'Pickup - Weekday (Mo = 1)', 'No_of_Ratings', 'Age'],\n",
    "             axis=1, inplace=True)"
   ]
  },
  {
   "cell_type": "code",
   "execution_count": 15,
   "metadata": {},
   "outputs": [
    {
     "data": {
      "image/png": "[encoded data removed]",
      "text/plain": [
       "<Figure size 1080x1080 with 1 Axes>"
      ]
     },
     "metadata": {
      "needs_background": "light"
     },
     "output_type": "display_data"
    }
   ],
   "source": [
    "from statsmodels.graphics.correlation import plot_corr\n",
    "\n",
    "fig = plt.figure(figsize=(15,15));\n",
    "ax = fig.add_subplot(111);\n",
    "plot_corr(train_set.corr(), xnames = train_set.corr().columns, ax = ax);"
   ]
  },
  {
   "cell_type": "code",
   "execution_count": 16,
   "metadata": {},
   "outputs": [],
   "source": [
    "X_train = train_set.iloc[:, :].values\n",
    "X_test = test_set.iloc[:, :].values"
   ]
  },
  {
   "cell_type": "code",
   "execution_count": 17,
   "metadata": {},
   "outputs": [],
   "source": [
    "y_train = y_train.reshape(len(y_train), 1)"
   ]
  },
  {
   "cell_type": "code",
   "execution_count": 18,
   "metadata": {},
   "outputs": [
    {
     "name": "stdout",
     "output_type": "stream",
     "text": [
      "[3 'Business' 9 5 4 20.4 0.0 -1.3177546999999998 36.8303703 -1.3004062\n",
      " 36.829741 264.0 1363.0 1637 13.8 745]\n",
      "[3 'Business' 27 3 27 3 27 3 27 3 8 23.246119694548046 0.0 -1.3332749\n",
      " 36.870814700000004 -1.3052491000000002 36.8223899 19.0 823.0 439 1511\n",
      " 13.3 171]\n"
     ]
    }
   ],
   "source": [
    "print(X_train[0])\n",
    "print(X_test[0])"
   ]
  },
  {
   "cell_type": "code",
   "execution_count": 19,
   "metadata": {},
   "outputs": [
    {
     "name": "stdout",
     "output_type": "stream",
     "text": [
      "16\n"
     ]
    },
    {
     "name": "stderr",
     "output_type": "stream",
     "text": [
      "C:\\Users\\venetia mokgawa\\anaconda3\\lib\\site-packages\\sklearn\\compose\\_column_transformer.py:430: FutureWarning: Given feature/column names or counts do not match the ones for the data given during fit. This will fail from v0.24.\n",
      "  FutureWarning)\n"
     ]
    }
   ],
   "source": [
    "#from sklearn.model_selection import train_test_split\n",
    "#X_train, X_test, y_train, y_test = train_test_split(X, y, test_size = 0.2, random_state = 0)\n",
    "print(len(X_train[0]))\n",
    "\n",
    "from sklearn.compose import ColumnTransformer\n",
    "from sklearn.preprocessing import OneHotEncoder\n",
    "ct = ColumnTransformer(transformers = [('encoder', OneHotEncoder(drop='first'), [0,1])], remainder = 'passthrough')\n",
    "X_train = np.array(ct.fit_transform(X_train))\n",
    "\n",
    "#ct = ColumnTransformer(transformers = [('encoder', OneHotEncoder(drop='first'), [0,1])], remainder = 'passthrough')\n",
    "X_test = np.array(ct.transform(X_test))"
   ]
  },
  {
   "cell_type": "code",
   "execution_count": 20,
   "metadata": {},
   "outputs": [
    {
     "data": {
      "text/plain": [
       "array([0.0, 1.0, 0.0, 0.0, 9, 5, 4, 20.4, 0.0, -1.3177546999999998,\n",
       "       36.8303703, -1.3004062, 36.829741, 264.0, 1363.0, 1637, 13.8, 745],\n",
       "      dtype=object)"
      ]
     },
     "execution_count": 20,
     "metadata": {},
     "output_type": "execute_result"
    }
   ],
   "source": [
    "X_train[0]"
   ]
  },
  {
   "cell_type": "markdown",
   "metadata": {},
   "source": [
    "## Feature Scaling"
   ]
  },
  {
   "cell_type": "code",
   "execution_count": 21,
   "metadata": {},
   "outputs": [],
   "source": [
    "from sklearn.preprocessing import StandardScaler\n",
    "sc = StandardScaler()\n",
    "X_train[:, 4:] = sc.fit_transform(X_train[:, 4:])"
   ]
  },
  {
   "cell_type": "code",
   "execution_count": 22,
   "metadata": {},
   "outputs": [],
   "source": [
    "X_test[:, 4:] = sc.transform(X_test[:, 4:])"
   ]
  },
  {
   "cell_type": "code",
   "execution_count": 23,
   "metadata": {},
   "outputs": [],
   "source": [
    "from sklearn.preprocessing import StandardScaler\n",
    "sc_X = StandardScaler()\n",
    "sc_y = StandardScaler()\n",
    "X_train = sc_X.fit_transform(X_train)\n",
    "#y_train = sc_y.fit_transform(y_train)"
   ]
  },
  {
   "cell_type": "code",
   "execution_count": 24,
   "metadata": {},
   "outputs": [
    {
     "data": {
      "text/plain": [
       "LinearRegression(copy_X=True, fit_intercept=True, n_jobs=None, normalize=False)"
      ]
     },
     "execution_count": 24,
     "metadata": {},
     "output_type": "execute_result"
    }
   ],
   "source": [
    "from sklearn.linear_model import LinearRegression\n",
    "regressor = LinearRegression()\n",
    "regressor.fit(X_train, y_train)"
   ]
  },
  {
   "cell_type": "code",
   "execution_count": 25,
   "metadata": {},
   "outputs": [],
   "source": [
    "y_pred = regressor.predict(X_test)"
   ]
  },
  {
   "cell_type": "code",
   "execution_count": 71,
   "metadata": {},
   "outputs": [
    {
     "name": "stderr",
     "output_type": "stream",
     "text": [
      "C:\\Users\\venetia mokgawa\\anaconda3\\lib\\site-packages\\ipykernel_launcher.py:2: SettingWithCopyWarning: \n",
      "A value is trying to be set on a copy of a slice from a DataFrame.\n",
      "Try using .loc[row_indexer,col_indexer] = value instead\n",
      "\n",
      "See the caveats in the documentation: https://pandas.pydata.org/pandas-docs/stable/user_guide/indexing.html#returning-a-view-versus-a-copy\n",
      "  \n"
     ]
    }
   ],
   "source": [
    "submission_df = sub_df[['Order No']]\n",
    "submission_df['Time from Pickup to Arrival'] =y_pred "
   ]
  },
  {
   "cell_type": "code",
   "execution_count": 72,
   "metadata": {},
   "outputs": [],
   "source": [
    "submission_df.to_csv(r'C:\\Users\\venetia mokgawa\\Downloads\\Sendy dataset\\Linear_model.csv',index=False)"
   ]
  },
  {
   "cell_type": "markdown",
   "metadata": {
    "id": "eP_2YL6mL0qY"
   },
   "source": [
    "## **MODEL #1**"
   ]
  },
  {
   "cell_type": "markdown",
   "metadata": {
    "id": "Gol1F-jWMG1l"
   },
   "source": [
    "## **MODEL #2**"
   ]
  },
  {
   "cell_type": "markdown",
   "metadata": {
    "id": "ddzkluwDMMIp"
   },
   "source": [
    "## **MODEL #3**"
   ]
  }
 ],
 "metadata": {
  "colab": {
   "authorship_tag": "ABX9TyN/h9vXIGSxRWjn9wcLq5ue",
   "include_colab_link": true,
   "name": "SENDY_LOGISTICS_MODELS.ipynb",
   "provenance": [],
   "toc_visible": true
  },
  "kernelspec": {
   "display_name": "Python 3",
   "language": "python",
   "name": "python3"
  },
  "language_info": {
   "codemirror_mode": {
    "name": "ipython",
    "version": 3
   },
   "file_extension": ".py",
   "mimetype": "text/x-python",
   "name": "python",
   "nbconvert_exporter": "python",
   "pygments_lexer": "ipython3",
   "version": "3.7.6"
  }
 },
 "nbformat": 4,
 "nbformat_minor": 1
}
