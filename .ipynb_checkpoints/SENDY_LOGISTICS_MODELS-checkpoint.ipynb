{
 "cells": [
  {
   "cell_type": "markdown",
   "metadata": {
    "colab_type": "text",
    "id": "view-in-github"
   },
   "source": [
    "<a href=\"https://colab.research.google.com/github/Warren-Mbekezeli-Mnisi/Logistics_Regression/blob/main/SENDY_LOGISTICS_MODELS.ipynb\" target=\"_parent\"><img src=\"https://colab.research.google.com/assets/colab-badge.svg\" alt=\"Open In Colab\"/></a>"
   ]
  },
  {
   "cell_type": "markdown",
   "metadata": {
    "id": "NToUAwhaLElH"
   },
   "source": [
    "# **SENDY LOGISTICS CHALLENGE**"
   ]
  },
  {
   "cell_type": "markdown",
   "metadata": {
    "id": "LhxhLXnYLkh9"
   },
   "source": [
    "## **DATA PREPROCESSING**"
   ]
  },
  {
   "cell_type": "markdown",
   "metadata": {},
   "source": [
    "## Import Libraries "
   ]
  },
  {
   "cell_type": "code",
   "execution_count": null,
   "metadata": {},
   "outputs": [],
   "source": [
    "#import all the important libraries\n",
    "import numpy as np\n",
    "import matlplot.pyplot as plt\n",
    "import pandas as pd"
   ]
  },
  {
   "cell_type": "markdown",
   "metadata": {},
   "source": [
    "## Import Dataset"
   ]
  },
  {
   "cell_type": "markdown",
   "metadata": {},
   "source": [
    "### Import the Training DataSet"
   ]
  },
  {
   "cell_type": "code",
   "execution_count": 1,
   "metadata": {},
   "outputs": [],
   "source": [
    "#import training dataset and observe the results"
   ]
  },
  {
   "cell_type": "markdown",
   "metadata": {},
   "source": [
    "### Import the test Dataset"
   ]
  },
  {
   "cell_type": "code",
   "execution_count": 2,
   "metadata": {},
   "outputs": [],
   "source": [
    "#import the test dataset and observe the results"
   ]
  },
  {
   "cell_type": "markdown",
   "metadata": {
    "id": "eP_2YL6mL0qY"
   },
   "source": [
    "## **MODEL #1**"
   ]
  },
  {
   "cell_type": "markdown",
   "metadata": {
    "id": "Gol1F-jWMG1l"
   },
   "source": [
    "## **MODEL #2**"
   ]
  },
  {
   "cell_type": "markdown",
   "metadata": {
    "id": "ddzkluwDMMIp"
   },
   "source": [
    "## **MODEL #3**"
   ]
  }
 ],
 "metadata": {
  "colab": {
   "authorship_tag": "ABX9TyN/h9vXIGSxRWjn9wcLq5ue",
   "include_colab_link": true,
   "name": "SENDY_LOGISTICS_MODELS.ipynb",
   "provenance": [],
   "toc_visible": true
  },
  "kernelspec": {
   "display_name": "Python 3",
   "language": "python",
   "name": "python3"
  },
  "language_info": {
   "codemirror_mode": {
    "name": "ipython",
    "version": 3
   },
   "file_extension": ".py",
   "mimetype": "text/x-python",
   "name": "python",
   "nbconvert_exporter": "python",
   "pygments_lexer": "ipython3",
   "version": "3.7.6"
  }
 },
 "nbformat": 4,
 "nbformat_minor": 1
}
